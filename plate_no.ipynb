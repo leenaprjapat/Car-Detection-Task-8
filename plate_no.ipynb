import cv2
img = cv2.imread("download.jpg")
model = cv2.CascadeClassifier('indian_plate.xml')
gray = cv2.cvtColor(img,cv2.COLOR_BGR2GRAY)
plate = model.detectMultiScale(gray)
x1 = plate[0][0]
x2 = x1+plate[0][2]
y1 = plate[0][1]
y2 = y1+plate[0][3]
n_plate = img[y1:y2, x1:x2]
cv2.imshow('Car Detection', n_plate)
cv2.waitKey()
cv2.destroyAllWindows()
cv2.imwrite("detected_plate.png", n_plate)
