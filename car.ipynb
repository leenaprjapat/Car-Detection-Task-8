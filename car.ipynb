import cv2
cap = cv2.VideoCapture('videoplay.mp4')
car_cascade = cv2.CascadeClassifier( 'cars.xml')

# loop runs if capturing has been initialized.
while True:
    ret, frames = cap.read()
    cars = car_cascade.detectMultiScale(frames)
    for (x,y,w,h) in cars:
        cv2.rectangle(frames,(x,y),(x+w,y+h),(0,0,255),2)
        cv2.imshow('Car Detection', frames)
    if cv2.waitKey(1) == 13:
        break

cv2.destroyAllWindows()
